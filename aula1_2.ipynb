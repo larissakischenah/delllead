{
  "nbformat": 4,
  "nbformat_minor": 0,
  "metadata": {
    "colab": {
      "name": "aula1_2.ipynb",
      "private_outputs": true,
      "provenance": [],
      "collapsed_sections": [],
      "authorship_tag": "ABX9TyMMAEc+XE4NxXout1reL64c",
      "include_colab_link": true
    },
    "kernelspec": {
      "name": "python3",
      "display_name": "Python 3"
    },
    "language_info": {
      "name": "python"
    }
  },
  "cells": [
    {
      "cell_type": "markdown",
      "metadata": {
        "id": "view-in-github",
        "colab_type": "text"
      },
      "source": [
        "<a href=\"https://colab.research.google.com/github/larissakischenah/delllead/blob/main/aula1_2.ipynb\" target=\"_parent\"><img src=\"https://colab.research.google.com/assets/colab-badge.svg\" alt=\"Open In Colab\"/></a>"
      ]
    },
    {
      "cell_type": "markdown",
      "metadata": {
        "id": "9rx28QnyRwgE"
      },
      "source": [
        "Nome: Larissa Bezerra\n",
        "\n",
        "Calculando o IMC\n",
        "\n",
        "\n",
        "\n"
      ]
    },
    {
      "cell_type": "code",
      "metadata": {
        "id": "G81wjhrrSDRM"
      },
      "source": [
        ""
      ],
      "execution_count": null,
      "outputs": []
    },
    {
      "cell_type": "code",
      "metadata": {
        "id": "fKYutflPRW71"
      },
      "source": [
        "nome=input('Digite o nome: ')\n",
        "peso_float=float(input('Digite o peso: '))\n",
        "altura_float=float(input('Digite a altura: '))\n",
        "altura_ao_quadrado = altura_float * altura_float\n",
        "IMC = peso_float/(altura_float*altura_float)\n",
        "print('Olá '+nome +', o seu IMC é: {:.2f} '.format(IMC))"
      ],
      "execution_count": null,
      "outputs": []
    }
  ]
}